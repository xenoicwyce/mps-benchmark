{
 "cells": [
  {
   "cell_type": "code",
   "execution_count": 14,
   "metadata": {},
   "outputs": [],
   "source": [
    "import numpy as np\n",
    "import networkx as nx\n",
    "\n",
    "from itertools import combinations\n",
    "from scipy.optimize import minimize\n",
    "\n",
    "from qiskit import QuantumCircuit, QuantumRegister\n",
    "from qiskit.circuit import ParameterVector\n",
    "from qiskit.primitives import BackendSamplerV2, BackendEstimatorV2\n",
    "from qiskit_optimization.applications import Maxcut\n",
    "from qiskit_optimization.algorithms import MinimumEigenOptimizer\n",
    "from qiskit_algorithms import SamplingVQE, QAOA, NumPyMinimumEigensolver\n",
    "from qiskit_algorithms.optimizers import COBYLA\n",
    "from qiskit_aer import AerSimulator\n",
    "\n",
    "def qaoa_circuit(G, reps=1):\n",
    "    r\"\"\"\n",
    "    QAOA circuit for Max-cut \\sum(I-ZZ). No longer follow qiskit QAOA circuit.\n",
    "    If want to reproduce the circuit used in qiskit \\sum(-ZZ), substitute\n",
    "    gamma as -gamma will do.\n",
    "    \"\"\"\n",
    "    gamma = ParameterVector('γ', reps)\n",
    "    beta = ParameterVector('β', reps)\n",
    "\n",
    "    q = QuantumRegister(len(G.nodes))\n",
    "    qc = QuantumCircuit(q)\n",
    "\n",
    "    qc.h(q)\n",
    "    for p in range(reps):\n",
    "        for u, v, d in G.edges(data=True):\n",
    "            weight = d.get('weight', 1)\n",
    "            qc.cx(u, v)\n",
    "            qc.rz(-gamma[p]*weight, v)\n",
    "            qc.cx(u, v)\n",
    "        qc.rx(2*beta[p], q)\n",
    "    return qc"
   ]
  },
  {
   "cell_type": "code",
   "execution_count": 15,
   "metadata": {},
   "outputs": [],
   "source": [
    "n = 100\n",
    "G = nx.fast_gnp_random_graph(n, 1., seed=0) # complete graph\n",
    "max_cut = Maxcut(G)\n",
    "qp = max_cut.to_quadratic_program()\n",
    "# print(qp.prettyprint())\n",
    "\n",
    "energy_op, offset = qp.to_ising()"
   ]
  },
  {
   "cell_type": "markdown",
   "metadata": {},
   "source": [
    "# QAOA"
   ]
  },
  {
   "cell_type": "code",
   "execution_count": 17,
   "metadata": {},
   "outputs": [],
   "source": [
    "reps = 10\n",
    "\n",
    "initial_params = np.random.rand(2 * reps) * 2 * np.pi\n",
    "ansatz = qaoa_circuit(G, reps=reps)\n",
    "\n",
    "backend = AerSimulator(method='matrix_product_state')\n",
    "sampler = BackendSamplerV2(backend=backend)\n",
    "optimizer = 'COBYLA'\n",
    "\n",
    "def obj_func(params):\n",
    "    estimator = BackendEstimatorV2(backend=backend)\n",
    "    qc = qaoa_circuit(G, reps)\n",
    "    qc.measure_all()\n",
    "    result = estimator.run([(qc, energy_op, params)]).result()[0]\n",
    "    return result.data.evs\n",
    "\n",
    "result = minimize(obj_func, initial_params, method=optimizer)\n",
    "result"
   ]
  },
  {
   "cell_type": "markdown",
   "metadata": {},
   "source": [
    "# VQE"
   ]
  },
  {
   "cell_type": "markdown",
   "metadata": {},
   "source": [
    "## Linear entanglement"
   ]
  },
  {
   "cell_type": "code",
   "execution_count": null,
   "metadata": {},
   "outputs": [],
   "source": [
    "backend = AerSimulator(method='matrix_product_state')\n",
    "sampler = BackendSamplerV2(backend=backend)\n",
    "# sampler = AerSamplerV2()\n",
    "\n",
    "reps = 9\n",
    "num_qubits = 100\n",
    "\n",
    "qc = QuantumCircuit(num_qubits)\n",
    "thetas = ParameterVector('theta', (reps + 1) * num_qubits)\n",
    "\n",
    "# Initial rotation layer\n",
    "for i in range(num_qubits):\n",
    "    qc.ry(thetas[i], i)\n",
    "\n",
    "for r in range(1, reps + 1):\n",
    "    # Entangling layer\n",
    "    for i in range(num_qubits - 1):\n",
    "        qc.cx(i, i + 1)\n",
    "\n",
    "    # Repeated rotation layer\n",
    "    for i in range(num_qubits):\n",
    "        qc.ry(thetas[r * num_qubits + i], i)\n",
    "\n",
    "qc.measure_all()\n",
    "\n",
    "initial_params = np.random.rand((reps + 1) * num_qubits) * 2 * np.pi\n",
    "result = sampler.run([(qc, initial_params)]).result()[0]\n",
    "result"
   ]
  },
  {
   "cell_type": "markdown",
   "metadata": {},
   "source": [
    "## Full entanglement"
   ]
  },
  {
   "cell_type": "code",
   "execution_count": null,
   "metadata": {},
   "outputs": [],
   "source": [
    "backend = AerSimulator(method='matrix_product_state')\n",
    "sampler = BackendSamplerV2(backend=backend)\n",
    "# sampler = AerSamplerV2()\n",
    "\n",
    "reps = 5\n",
    "num_qubits = 100\n",
    "\n",
    "qc = QuantumCircuit(num_qubits)\n",
    "thetas = ParameterVector('theta', (reps + 1) * num_qubits)\n",
    "for i in range(num_qubits):\n",
    "    qc.ry(thetas[i], i)\n",
    "\n",
    "for r in range(1, reps + 1):\n",
    "    for i, j in combinations(range(num_qubits), 2):\n",
    "        qc.cx(i, j)\n",
    "\n",
    "    for i in range(num_qubits):\n",
    "        qc.ry(thetas[r * num_qubits + i], i)\n",
    "\n",
    "qc.measure_all()\n",
    "\n",
    "initial_params = np.random.rand((reps + 1) * num_qubits) * 2 * np.pi\n",
    "result = sampler.run([(qc, initial_params)]).result()[0]\n",
    "result"
   ]
  }
 ],
 "metadata": {
  "kernelspec": {
   "display_name": ".venv",
   "language": "python",
   "name": "python3"
  },
  "language_info": {
   "codemirror_mode": {
    "name": "ipython",
    "version": 3
   },
   "file_extension": ".py",
   "mimetype": "text/x-python",
   "name": "python",
   "nbconvert_exporter": "python",
   "pygments_lexer": "ipython3",
   "version": "3.12.4"
  }
 },
 "nbformat": 4,
 "nbformat_minor": 2
}
